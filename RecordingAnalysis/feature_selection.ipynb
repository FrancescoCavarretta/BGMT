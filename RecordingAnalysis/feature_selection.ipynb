{
 "cells": [
  {
   "cell_type": "code",
   "execution_count": 1,
   "metadata": {},
   "outputs": [],
   "source": [
    "import pandas as pd\n",
    "import seaborn as sns\n",
    "import matplotlib.pyplot as plt\n",
    "import numpy as np\n",
    "import warnings\n",
    "import copy\n",
    "import json\n",
    "\n",
    "warnings.simplefilter(\"ignore\")\n",
    "pd.set_option('display.max_rows', 300)"
   ]
  },
  {
   "cell_type": "code",
   "execution_count": 2,
   "metadata": {},
   "outputs": [],
   "source": [
    "# neuron information for its identification\n",
    "neuron_id_info = ['date', 'slice id', 'state']"
   ]
  },
  {
   "cell_type": "code",
   "execution_count": 3,
   "metadata": {},
   "outputs": [],
   "source": [
    "def get_early_recordings(grp_data):\n",
    "    '''\n",
    "        For each group, keep only the earliest recording\n",
    "    '''\n",
    "    ret_data = pd.DataFrame()\n",
    "    for _, g in grp_data:\n",
    "        g.sort_values('time stamp', inplace=True)\n",
    "        ret_data = ret_data.append( g.iloc[0, :] )\n",
    "    return ret_data"
   ]
  },
  {
   "cell_type": "markdown",
   "metadata": {},
   "source": [
    "## 1. Data engineering"
   ]
  },
  {
   "cell_type": "code",
   "execution_count": 4,
   "metadata": {},
   "outputs": [],
   "source": [
    "# load dataset with measures of firing properties\n",
    "data = pd.read_csv(\"preprocessed_data_efeatures.csv\")\n",
    "data = data.merge(pd.read_csv('data_selection.csv')[neuron_id_info].drop_duplicates(), on=neuron_id_info, how='inner')"
   ]
  },
  {
   "cell_type": "markdown",
   "metadata": {},
   "source": [
    "## Current amplitude round off"
   ]
  },
  {
   "cell_type": "code",
   "execution_count": 5,
   "metadata": {},
   "outputs": [],
   "source": [
    "def round_current(row):\n",
    "    inc = {'fi':20.0, 'rmih':50.0, 'tburst':50.0}[row['protocol']]\n",
    "    return round(row['step current']/inc)*inc\n",
    "\n",
    "\n",
    "# round off for current amplitudes\n",
    "data['step current'] = data.apply(round_current, axis=1)\n",
    "data['bias current'] = data['bias current'].apply( lambda x : round(x/10.0)*10.0 )\n",
    "\n",
    "data['total current'] = data['step current'] + data['bias current']"
   ]
  },
  {
   "cell_type": "markdown",
   "metadata": {},
   "source": [
    "# 1. F-I curve"
   ]
  },
  {
   "cell_type": "code",
   "execution_count": 6,
   "metadata": {},
   "outputs": [],
   "source": [
    "# retain only traces selected\n",
    "data_fi = data.merge(pd.read_csv('data_selection.csv')[['filename', 'file key']], on=['filename', 'file key'], how='inner')\n",
    "\n",
    "# keep early recordings only\n",
    "data_fi = get_early_recordings(data_fi.groupby(neuron_id_info + ['step current']))"
   ]
  },
  {
   "cell_type": "code",
   "execution_count": 7,
   "metadata": {},
   "outputs": [],
   "source": [
    "def ranking(data, increments=np.arange(40, 120, 20), steps=np.arange(20, 320, 20), nstep=3):\n",
    "    data = data[neuron_id_info + ['step current', 'AP_count']]\n",
    "\n",
    "    rank = pd.DataFrame()\n",
    "\n",
    "    for cur0 in steps:\n",
    "        for cur_inc in increments:\n",
    "            \n",
    "                # triplettes of traces\n",
    "                _data = pd.DataFrame()\n",
    "                \n",
    "                for i in range(nstep):\n",
    "                    _data = pd.concat([_data, data[data['step current'] == (cur0 + i * cur_inc)]])\n",
    "\n",
    "                # remove traces with less than 4 spikes\n",
    "                _data.drop(_data[_data['AP_count'] < 4].index, inplace=True)\n",
    "                    \n",
    "                # remove neurons without all the triplettes\n",
    "                for k, g in _data.groupby(neuron_id_info):\n",
    "                    if g['step current'].nunique() < nstep:\n",
    "                        _data.drop(_data[(_data[neuron_id_info] == k).all(axis=1)].index, inplace=True)\n",
    "                        \n",
    "                        \n",
    "                # analyze by type\n",
    "                for x in _data['state'].unique():\n",
    "                    _rows_sel = _data[_data['state'] == x]\n",
    "                    sz = _rows_sel.shape[0] \n",
    "                    \n",
    "                    row = {}\n",
    "                    row['n'] = sz\n",
    "                    row['state'] = x\n",
    "                    \n",
    "                    for i in range(nstep):\n",
    "                        row['cur' + str(i)] = cur0 + i * cur_inc\n",
    "                        \n",
    "                    row['cur step'] = cur_inc\n",
    "                    rank = rank.append(row, ignore_index=True)\n",
    "                    \n",
    "\n",
    "    return rank"
   ]
  },
  {
   "cell_type": "code",
   "execution_count": 8,
   "metadata": {
    "scrolled": false
   },
   "outputs": [
    {
     "name": "stdout",
     "output_type": "stream",
     "text": [
      "6ohda\n",
      "     n  state  cur0  cur1  cur2  cur step\n",
      "2    3  6ohda    40    80   120        40\n",
      "85   3  6ohda   260   300   340        40\n",
      "89   3  6ohda   280   320   360        40\n",
      "93   3  6ohda   300   340   380        40\n",
      "4    3  6ohda    40   100   160        60\n",
      "75   3  6ohda   220   280   340        60\n",
      "81   3  6ohda   240   300   360        60\n",
      "87   3  6ohda   260   320   380        60\n",
      "91   3  6ohda   280   340   400        60\n",
      "6    3  6ohda    40   120   200        80\n",
      "53   3  6ohda   160   240   320        80\n",
      "61   3  6ohda   180   260   340        80\n",
      "69   3  6ohda   200   280   360        80\n",
      "77   3  6ohda   220   300   380        80\n",
      "83   3  6ohda   240   320   400        80\n",
      "7    3  6ohda    40   140   240       100\n",
      "14   3  6ohda    60   160   260       100\n",
      "39   3  6ohda   120   220   320       100\n",
      "47   3  6ohda   140   240   340       100\n",
      "55   3  6ohda   160   260   360       100\n",
      "63   3  6ohda   180   280   380       100\n",
      "71   3  6ohda   200   300   400       100\n",
      "8    6  6ohda    60   100   140        40\n",
      "79   6  6ohda   240   280   320        40\n",
      "10   6  6ohda    60   120   180        60\n",
      "67   6  6ohda   200   260   320        60\n",
      "12   6  6ohda    60   140   220        80\n",
      "58   9  6ohda   180   240   300        60\n",
      "44   9  6ohda   140   220   300        80\n",
      "22   9  6ohda    80   180   280       100\n",
      "30   9  6ohda   100   200   300       100\n",
      "72  12  6ohda   220   260   300        40\n",
      "50  12  6ohda   160   220   280        60\n",
      "36  12  6ohda   120   200   280        80\n",
      "64  15  6ohda   200   240   280        40\n",
      "18  15  6ohda    80   140   200        60\n",
      "20  15  6ohda    80   160   240        80\n",
      "28  15  6ohda   100   180   260        80\n",
      "56  18  6ohda   180   220   260        40\n",
      "26  18  6ohda   100   160   220        60\n",
      "42  18  6ohda   140   200   260        60\n",
      "16  21  6ohda    80   120   160        40\n",
      "24  21  6ohda   100   140   180        40\n",
      "32  21  6ohda   120   160   200        40\n",
      "40  21  6ohda   140   180   220        40\n",
      "48  21  6ohda   160   200   240        40\n",
      "34  21  6ohda   120   180   240        60\n",
      "\n",
      "control\n",
      "     n    state  cur0  cur1  cur2  cur step\n",
      "0    3  control    20    60   100        40\n",
      "3    3  control    40    80   120        40\n",
      "1    3  control    20    80   140        60\n",
      "5    3  control    40   100   160        60\n",
      "11   3  control    60   120   180        60\n",
      "13   3  control    60   140   220        80\n",
      "15   3  control    60   160   260       100\n",
      "23   3  control    80   180   280       100\n",
      "38   3  control   120   220   320       100\n",
      "46   3  control   140   240   340       100\n",
      "62   3  control   180   280   380       100\n",
      "9    6  control    60   100   140        40\n",
      "19   6  control    80   140   200        60\n",
      "90   6  control   280   340   400        60\n",
      "21   6  control    80   160   240        80\n",
      "52   6  control   160   240   320        80\n",
      "60   6  control   180   260   340        80\n",
      "76   6  control   220   300   380        80\n",
      "82   6  control   240   320   400        80\n",
      "54   6  control   160   260   360       100\n",
      "70   6  control   200   300   400       100\n",
      "17   9  control    80   120   160        40\n",
      "92   9  control   300   340   380        40\n",
      "86   9  control   260   320   380        60\n",
      "37   9  control   120   200   280        80\n",
      "45   9  control   140   220   300        80\n",
      "68   9  control   200   280   360        80\n",
      "31   9  control   100   200   300       100\n",
      "35  12  control   120   180   240        60\n",
      "43  12  control   140   200   260        60\n",
      "51  12  control   160   220   280        60\n",
      "59  12  control   180   240   300        60\n",
      "80  12  control   240   300   360        60\n",
      "29  12  control   100   180   260        80\n",
      "25  15  control   100   140   180        40\n",
      "33  15  control   120   160   200        40\n",
      "49  15  control   160   200   240        40\n",
      "57  15  control   180   220   260        40\n",
      "88  15  control   280   320   360        40\n",
      "27  15  control   100   160   220        60\n",
      "74  15  control   220   280   340        60\n",
      "41  18  control   140   180   220        40\n",
      "84  18  control   260   300   340        40\n",
      "66  18  control   200   260   320        60\n",
      "78  21  control   240   280   320        40\n",
      "73  24  control   220   260   300        40\n",
      "65  27  control   200   240   280        40\n",
      "\n"
     ]
    }
   ],
   "source": [
    "rank = ranking(data_fi, nstep=3)    \n",
    "# remove current steps with fewer trials than 1 or no APs\n",
    "rank = rank[rank['n'] > 1]\n",
    "for k, g in rank.groupby('state'):\n",
    "    g = g.sort_values(by=['n', 'cur step'])\n",
    "    print (k)\n",
    "    print (g)\n",
    "    print ()"
   ]
  },
  {
   "cell_type": "code",
   "execution_count": 9,
   "metadata": {},
   "outputs": [],
   "source": [
    "data_fi_selection = pd.DataFrame()\n",
    "\n",
    "# select\n",
    "data_fi_selection = data_fi_selection.append(\n",
    "    data_fi[((data_fi['step current'] == 120) | (data_fi['step current'] == 180) | (data_fi['step current'] == 240)) & (data_fi['state'] == '6ohda')]\n",
    ")\n",
    "# select\n",
    "data_fi_selection = data_fi_selection.append(\n",
    "    data_fi[((data_fi['step current'] == 200) | (data_fi['step current'] == 240) | (data_fi['step current'] == 280)) & (data_fi['state'] == 'control')]\n",
    ")\n",
    "    \n",
    "# drop the traces without 4 spikes at least\n",
    "data_fi_selection.drop(data_fi_selection[data_fi_selection['AP_count'] < 4].index, inplace=True)\n",
    "        \n",
    "\n",
    "# remove neurons without all the triplettes\n",
    "for k, g in data_fi_selection.groupby(neuron_id_info):\n",
    "    if g['step current'].nunique() < 3:\n",
    "        data_fi_selection.drop(data_fi_selection[(data_fi_selection[neuron_id_info] == k).all(axis=1)].index, inplace=True)"
   ]
  },
  {
   "cell_type": "code",
   "execution_count": 10,
   "metadata": {},
   "outputs": [
    {
     "data": {
      "text/plain": [
       "(48, 36)"
      ]
     },
     "execution_count": 10,
     "metadata": {},
     "output_type": "execute_result"
    }
   ],
   "source": [
    "data_fi_selection.shape"
   ]
  },
  {
   "cell_type": "code",
   "execution_count": 11,
   "metadata": {},
   "outputs": [],
   "source": [
    "# neuron filtering\n",
    "data_fi = data_fi.merge(data_fi_selection[neuron_id_info].drop_duplicates(), on=neuron_id_info, how='inner')"
   ]
  },
  {
   "cell_type": "code",
   "execution_count": 12,
   "metadata": {},
   "outputs": [
    {
     "data": {
      "text/html": [
       "<div>\n",
       "<style scoped>\n",
       "    .dataframe tbody tr th:only-of-type {\n",
       "        vertical-align: middle;\n",
       "    }\n",
       "\n",
       "    .dataframe tbody tr th {\n",
       "        vertical-align: top;\n",
       "    }\n",
       "\n",
       "    .dataframe thead tr th {\n",
       "        text-align: left;\n",
       "    }\n",
       "\n",
       "    .dataframe thead tr:last-of-type th {\n",
       "        text-align: right;\n",
       "    }\n",
       "</style>\n",
       "<table border=\"1\" class=\"dataframe\">\n",
       "  <thead>\n",
       "    <tr>\n",
       "      <th></th>\n",
       "      <th colspan=\"9\" halign=\"left\">bias current</th>\n",
       "    </tr>\n",
       "    <tr>\n",
       "      <th></th>\n",
       "      <th>count</th>\n",
       "      <th>mean</th>\n",
       "      <th>std</th>\n",
       "      <th>min</th>\n",
       "      <th>25%</th>\n",
       "      <th>50%</th>\n",
       "      <th>75%</th>\n",
       "      <th>max</th>\n",
       "      <th>se</th>\n",
       "    </tr>\n",
       "    <tr>\n",
       "      <th>state</th>\n",
       "      <th></th>\n",
       "      <th></th>\n",
       "      <th></th>\n",
       "      <th></th>\n",
       "      <th></th>\n",
       "      <th></th>\n",
       "      <th></th>\n",
       "      <th></th>\n",
       "      <th></th>\n",
       "    </tr>\n",
       "  </thead>\n",
       "  <tbody>\n",
       "    <tr>\n",
       "      <th>6ohda</th>\n",
       "      <td>7.0</td>\n",
       "      <td>67.142857</td>\n",
       "      <td>33.523268</td>\n",
       "      <td>20.0</td>\n",
       "      <td>45.0</td>\n",
       "      <td>70.0</td>\n",
       "      <td>85.0</td>\n",
       "      <td>120.0</td>\n",
       "      <td>12.670604</td>\n",
       "    </tr>\n",
       "    <tr>\n",
       "      <th>control</th>\n",
       "      <td>9.0</td>\n",
       "      <td>93.333333</td>\n",
       "      <td>56.124861</td>\n",
       "      <td>50.0</td>\n",
       "      <td>50.0</td>\n",
       "      <td>60.0</td>\n",
       "      <td>100.0</td>\n",
       "      <td>200.0</td>\n",
       "      <td>18.708287</td>\n",
       "    </tr>\n",
       "  </tbody>\n",
       "</table>\n",
       "</div>"
      ],
      "text/plain": [
       "        bias current                                                        \\\n",
       "               count       mean        std   min   25%   50%    75%    max   \n",
       "state                                                                        \n",
       "6ohda            7.0  67.142857  33.523268  20.0  45.0  70.0   85.0  120.0   \n",
       "control          9.0  93.333333  56.124861  50.0  50.0  60.0  100.0  200.0   \n",
       "\n",
       "                    \n",
       "                se  \n",
       "state               \n",
       "6ohda    12.670604  \n",
       "control  18.708287  "
      ]
     },
     "execution_count": 12,
     "metadata": {},
     "output_type": "execute_result"
    }
   ],
   "source": [
    "descr = data_fi_selection.groupby(neuron_id_info)['bias current'].mean().reset_index().groupby('state').describe()\n",
    "descr[('bias current', 'se')] = descr[('bias current', 'std')] / np.sqrt(descr[('bias current', 'count')])\n",
    "descr"
   ]
  },
  {
   "cell_type": "markdown",
   "metadata": {},
   "source": [
    "# 2. Sag amplitude"
   ]
  },
  {
   "cell_type": "code",
   "execution_count": 13,
   "metadata": {},
   "outputs": [],
   "source": [
    "# keep only the trace selection\n",
    "data_sag = data[data['protocol'] == 'rmih']\n",
    "\n",
    "# neuron filtering\n",
    "data_sag = data_sag.merge(data_fi_selection[neuron_id_info].drop_duplicates(), on=neuron_id_info, how='inner')\n",
    "\n",
    "# keep early recordings only\n",
    "data_sag = get_early_recordings(data_sag.groupby(neuron_id_info + ['step current']))"
   ]
  },
  {
   "cell_type": "code",
   "execution_count": 14,
   "metadata": {},
   "outputs": [],
   "source": [
    "# for comparison with the paper, display over the same range of current injection:\n",
    "data_sag_selection = data_sag[data_sag['step current'] == -200]"
   ]
  },
  {
   "cell_type": "markdown",
   "metadata": {},
   "source": [
    "# 3. Burst "
   ]
  },
  {
   "cell_type": "code",
   "execution_count": 15,
   "metadata": {},
   "outputs": [],
   "source": [
    "# keep only the trace selection\n",
    "data_rebound = data[data['protocol'] == 'tburst']\n",
    "\n",
    "# neuron filtering\n",
    "data_rebound = data_rebound.merge(data_fi_selection[neuron_id_info].drop_duplicates(), on=neuron_id_info, how='inner')\n",
    " \n",
    "# keep early recordings only\n",
    "data_rebound = get_early_recordings(data_rebound.groupby(neuron_id_info + ['step current','stim dur']))"
   ]
  },
  {
   "cell_type": "code",
   "execution_count": 16,
   "metadata": {},
   "outputs": [],
   "source": [
    "# select data\n",
    "data_rebound_selection = data_rebound[data_rebound['stim dur'] == 2000]"
   ]
  },
  {
   "cell_type": "code",
   "execution_count": 17,
   "metadata": {},
   "outputs": [
    {
     "data": {
      "text/html": [
       "<div>\n",
       "<style scoped>\n",
       "    .dataframe tbody tr th:only-of-type {\n",
       "        vertical-align: middle;\n",
       "    }\n",
       "\n",
       "    .dataframe tbody tr th {\n",
       "        vertical-align: top;\n",
       "    }\n",
       "\n",
       "    .dataframe thead tr th {\n",
       "        text-align: left;\n",
       "    }\n",
       "\n",
       "    .dataframe thead tr:last-of-type th {\n",
       "        text-align: right;\n",
       "    }\n",
       "</style>\n",
       "<table border=\"1\" class=\"dataframe\">\n",
       "  <thead>\n",
       "    <tr>\n",
       "      <th></th>\n",
       "      <th colspan=\"9\" halign=\"left\">bias current</th>\n",
       "    </tr>\n",
       "    <tr>\n",
       "      <th></th>\n",
       "      <th>count</th>\n",
       "      <th>mean</th>\n",
       "      <th>std</th>\n",
       "      <th>min</th>\n",
       "      <th>25%</th>\n",
       "      <th>50%</th>\n",
       "      <th>75%</th>\n",
       "      <th>max</th>\n",
       "      <th>se</th>\n",
       "    </tr>\n",
       "    <tr>\n",
       "      <th>state</th>\n",
       "      <th></th>\n",
       "      <th></th>\n",
       "      <th></th>\n",
       "      <th></th>\n",
       "      <th></th>\n",
       "      <th></th>\n",
       "      <th></th>\n",
       "      <th></th>\n",
       "      <th></th>\n",
       "    </tr>\n",
       "  </thead>\n",
       "  <tbody>\n",
       "    <tr>\n",
       "      <th>6ohda</th>\n",
       "      <td>7.0</td>\n",
       "      <td>68.571429</td>\n",
       "      <td>36.253079</td>\n",
       "      <td>10.0</td>\n",
       "      <td>50.0</td>\n",
       "      <td>70.0</td>\n",
       "      <td>90.0</td>\n",
       "      <td>120.0</td>\n",
       "      <td>13.702376</td>\n",
       "    </tr>\n",
       "    <tr>\n",
       "      <th>control</th>\n",
       "      <td>7.0</td>\n",
       "      <td>67.857143</td>\n",
       "      <td>37.177182</td>\n",
       "      <td>40.0</td>\n",
       "      <td>50.0</td>\n",
       "      <td>60.0</td>\n",
       "      <td>62.5</td>\n",
       "      <td>150.0</td>\n",
       "      <td>14.051654</td>\n",
       "    </tr>\n",
       "  </tbody>\n",
       "</table>\n",
       "</div>"
      ],
      "text/plain": [
       "        bias current                                                       \\\n",
       "               count       mean        std   min   25%   50%   75%    max   \n",
       "state                                                                       \n",
       "6ohda            7.0  68.571429  36.253079  10.0  50.0  70.0  90.0  120.0   \n",
       "control          7.0  67.857143  37.177182  40.0  50.0  60.0  62.5  150.0   \n",
       "\n",
       "                    \n",
       "                se  \n",
       "state               \n",
       "6ohda    13.702376  \n",
       "control  14.051654  "
      ]
     },
     "execution_count": 17,
     "metadata": {},
     "output_type": "execute_result"
    }
   ],
   "source": [
    "descr = data_rebound_selection.groupby(neuron_id_info)['bias current'].mean().reset_index().groupby('state').describe()\n",
    "descr[('bias current', 'se')] = descr[('bias current', 'std')] / np.sqrt(descr[('bias current', 'count')])\n",
    "descr"
   ]
  },
  {
   "cell_type": "markdown",
   "metadata": {},
   "source": [
    "# JSON export"
   ]
  },
  {
   "cell_type": "code",
   "execution_count": 18,
   "metadata": {},
   "outputs": [],
   "source": [
    "## old featurs\n",
    "\n",
    "efeatures = {\n",
    "      'fi':[\n",
    "        'AP_amplitude',\n",
    "        'AHP_depth',\n",
    "        'AP_width',\n",
    "        'AP_count',\n",
    "        'time_to_first_spike',\n",
    "        'inv_first_ISI',\n",
    "        'inv_second_ISI',\n",
    "        'inv_last_ISI',\n",
    "        'adaptation_index2',\n",
    "        'voltage_base',\n",
    "        'voltage_after_stim',\n",
    "        'AP_count_before_stim',\n",
    "        'AP_count_after_stim',\n",
    "        'max_amp_difference',\n",
    "        'clustering_index',\n",
    "        'fast_AHP'\n",
    "      ],\n",
    "      'rmih':[\n",
    "        'voltage_base',\n",
    "        'AP1_amp_rev',\n",
    "        'AP2_amp_rev',\n",
    "        'time_to_first_spike',\n",
    "        'AP_count_before_stim',\n",
    "        'AP_count_after_stim',\n",
    "        'inv_first_ISI',\n",
    "        'inv_second_ISI',\n",
    "        'inv_last_ISI',\n",
    "        'voltage_after_stim',\n",
    "        'sag_amplitude',\n",
    "        'voltage_deflection',\n",
    "      ]\n",
    "    }"
   ]
  },
  {
   "cell_type": "code",
   "execution_count": 19,
   "metadata": {},
   "outputs": [],
   "source": [
    "json_file_feature = {\n",
    "    'control':{},\n",
    "    '6ohda':{}\n",
    "}\n",
    "\n",
    "json_file_protocol = {\n",
    "    'control':{},\n",
    "    '6ohda':{}\n",
    "}"
   ]
  },
  {
   "cell_type": "code",
   "execution_count": 20,
   "metadata": {},
   "outputs": [],
   "source": [
    "def row_to_json(row, thresh=None):\n",
    "    ret = [ ]\n",
    "    for col_name in row.columns:\n",
    "        ret.append(\n",
    "            {\n",
    "                \"feature\":col_name, \n",
    "                \"val\":[row.loc['mean', col_name], row.loc['std', col_name]],\n",
    "                \"n\":row.loc['count', col_name],\n",
    "                \"weight\":1.0,\n",
    "                \"t_trace_init\":500\n",
    "            }\n",
    "        )\n",
    "        \n",
    "        if thresh:\n",
    "            ret[-1].update({'threshold':thresh})\n",
    "    return { \"soma.v\":ret }"
   ]
  },
  {
   "cell_type": "code",
   "execution_count": 21,
   "metadata": {
    "scrolled": false
   },
   "outputs": [],
   "source": [
    "def get_json_output(data, efeature_names, thresh=None, key_fmt='', stim_dur_flag=True, stim_amp_flag=True):\n",
    "    _key_fmt = key_fmt + 'Step'\n",
    "    if stim_amp_flag:\n",
    "        _key_fmt += '%i'\n",
    "    if stim_dur_flag:\n",
    "        _key_fmt += '_%ims'\n",
    "        \n",
    "    json_file_output = {}\n",
    "    for k, g in data.groupby('state'):\n",
    "        json_file_output[k] = {}\n",
    "        \n",
    "        output = {}\n",
    "        for kk, gg in g.groupby(['step current', 'stim dur']):\n",
    "            gg_descr = gg[efeature_names].describe().loc[['count', 'mean', 'std'], :] \n",
    "            \n",
    "            _kk = ()\n",
    "            \n",
    "            if stim_amp_flag:\n",
    "                _kk += (kk[0],)\n",
    "                \n",
    "            if stim_dur_flag:\n",
    "                _kk += (kk[1],)\n",
    "\n",
    "            output.update( {(_key_fmt % _kk):row_to_json(gg_descr, thresh=thresh)} )\n",
    "\n",
    "        json_file_output[k].update(output)\n",
    "    return json_file_output"
   ]
  },
  {
   "cell_type": "markdown",
   "metadata": {},
   "source": [
    "### Features"
   ]
  },
  {
   "cell_type": "code",
   "execution_count": 22,
   "metadata": {
    "scrolled": false
   },
   "outputs": [],
   "source": [
    "output = get_json_output(data_fi_selection, efeatures['fi'], key_fmt='', thresh=-20)\n",
    "\n",
    "for k in json_file_feature:\n",
    "    json_file_feature[k].update(output[k])"
   ]
  },
  {
   "cell_type": "code",
   "execution_count": 23,
   "metadata": {},
   "outputs": [],
   "source": [
    "output = get_json_output(data_sag_selection, efeatures['rmih'], key_fmt='Sag', thresh=-35)\n",
    "\n",
    "for k in json_file_feature:\n",
    "    json_file_feature[k].update(output[k])"
   ]
  },
  {
   "cell_type": "markdown",
   "metadata": {},
   "source": [
    "### Add the time constants"
   ]
  },
  {
   "cell_type": "code",
   "execution_count": 24,
   "metadata": {},
   "outputs": [],
   "source": [
    "time_constants = {'6ohda':\n",
    "                  {\"Pulse\":{\"soma.v\":[{\"feature\":\"decay_time_constant_after_stim2\",\"val\":[21.04,13.2],\"weight\":1, \"t_trace_init\":500 }]}},\n",
    "                   'control':\n",
    "                   {\"Pulse\":{\"soma.v\":[{\"feature\":\"decay_time_constant_after_stim2\",\"val\":[20.69,10.27],\"weight\":1, \"t_trace_init\":500}]}}\n",
    "                 }\n",
    "\n",
    "for k in json_file_feature.keys():\n",
    "    json_file_feature[k].update(time_constants[k])"
   ]
  },
  {
   "cell_type": "markdown",
   "metadata": {},
   "source": [
    "### Input resistance"
   ]
  },
  {
   "cell_type": "code",
   "execution_count": 25,
   "metadata": {},
   "outputs": [],
   "source": [
    "output = get_json_output(data_sag_selection, [ 'input_resistance' ], stim_amp_flag=False)\n",
    "for k in json_file_feature:\n",
    "    json_file_feature[k].update(output[k])"
   ]
  },
  {
   "cell_type": "markdown",
   "metadata": {},
   "source": [
    "### AP peaks/amplitudes"
   ]
  },
  {
   "cell_type": "code",
   "execution_count": 26,
   "metadata": {},
   "outputs": [],
   "source": [
    "for output in json_file_feature.values():\n",
    "    for entry_name, entry in output.items():\n",
    "        for entry1 in entry['soma.v']:\n",
    "            #if (entry1['feature'].startswith('AP_amplitude') or \\\n",
    "            #    entry1['feature'].startswith('AP1_peak') or \\\n",
    "            #    entry1['feature'].startswith('AP2_peak') or \\\n",
    "            #    entry1['feature'].startswith('AP1_amp') or \\\n",
    "            #    entry1['feature'].startswith('AP2_amp')):\n",
    "            #    entry1['weight'] = 0.5\n",
    "            #el\n",
    "            if entry1['feature'] == 'AP_count_before_stim' or entry_name.startswith('Step') and entry_name.endswith('ms') and entry1['feature'] == 'AP_count_after_stim':\n",
    "                entry1['val'][1] = 0.01\n"
   ]
  },
  {
   "cell_type": "markdown",
   "metadata": {},
   "source": [
    "### AHP depth"
   ]
  },
  {
   "cell_type": "code",
   "execution_count": 27,
   "metadata": {},
   "outputs": [],
   "source": [
    "#for output in json_file_feature.values():\n",
    "#    for entry_name, entry in output.items():\n",
    "#        for entry1 in entry['soma.v']:\n",
    "#            if entry1['feature'].startswith('AHP_depth'):\n",
    "#                entry1['weight'] = 2"
   ]
  },
  {
   "cell_type": "markdown",
   "metadata": {},
   "source": [
    "### Protocols"
   ]
  },
  {
   "cell_type": "code",
   "execution_count": 28,
   "metadata": {},
   "outputs": [],
   "source": [
    "protocol_template = {\n",
    "    \"Pulse\": {\n",
    "        \"type\": \"StepProtocol\", \n",
    "        \"stimuli\": {\n",
    "            \"step\": {\"delay\": 2000, \"amp\":-1.0, \"duration\": 0.5, \"totduration\": 4800}\n",
    "        }\n",
    "    },\n",
    "    \"Step_2000ms\": {\n",
    "        \"type\": \"StepProtocol\", \n",
    "        \"stimuli\": {\n",
    "            \"step\": {\"delay\": 2000, \"amp\":-0.01, \"duration\": 100, \"totduration\": 4800}\n",
    "        }\n",
    "    }\n",
    "}\n",
    "\n"
   ]
  },
  {
   "cell_type": "code",
   "execution_count": 29,
   "metadata": {},
   "outputs": [],
   "source": [
    "def row_to_json_prot(cur_key, stim_amp, stim_dur, stim_hold, prefix='', delay=2000, tpad=800.0):\n",
    "    tdur = stim_dur + delay + tpad\n",
    "    return {(prefix+\"Step%i_%ims\")%(cur_key, stim_dur): {\n",
    "        \"type\": \"StepProtocol\", \n",
    "        \"stimuli\": {\n",
    "            \"step\": {\"delay\": delay, \"amp\": round(stim_amp/1000.0, 3), \"duration\": stim_dur, \"totduration\": tdur},\n",
    "            \"holding\": {\"amp\": round(stim_hold/1000.0,3), \"delay\": 0, \"duration\": tdur, \"totduration\": tdur}\n",
    "        }}}"
   ]
  },
  {
   "cell_type": "code",
   "execution_count": 30,
   "metadata": {},
   "outputs": [],
   "source": [
    "def get_json_protocol_output(data, efeature_names, cur_key, prefix='', stim_dur_flag=True, stim_amp_flag=True):        \n",
    "    json_file_output = {}\n",
    "    for k, g in data.groupby(['state']):\n",
    "        json_file_output[k] = {}\n",
    "        \n",
    "        hold = g['bias current'].mean()\n",
    "        \n",
    "        output = {}\n",
    "        for kk, gg in g.groupby([cur_key, 'stim dur']):\n",
    "            output.update(row_to_json_prot(kk[0], gg['step current'].mean(), kk[1], hold, prefix=prefix))\n",
    "        json_file_output[k].update(output)\n",
    "    return json_file_output"
   ]
  },
  {
   "cell_type": "code",
   "execution_count": 31,
   "metadata": {
    "scrolled": false
   },
   "outputs": [],
   "source": [
    "output = get_json_protocol_output(data_fi_selection, efeatures['fi'], 'step current')\n",
    "\n",
    "for k in json_file_protocol:\n",
    "    json_file_protocol[k].update(output[k])\n",
    "    \n",
    "    \n",
    "output = get_json_protocol_output(data_sag_selection, efeatures['rmih'], 'step current', prefix='Sag')\n",
    "\n",
    "for k in json_file_protocol:\n",
    "    json_file_protocol[k].update(output[k])\n",
    "    \n",
    "    \n",
    "for k in json_file_protocol:\n",
    "    json_file_protocol[k].update(copy.deepcopy(protocol_template))"
   ]
  },
  {
   "cell_type": "code",
   "execution_count": 32,
   "metadata": {},
   "outputs": [
    {
     "name": "stdout",
     "output_type": "stream",
     "text": [
      "{'Step200_2000ms': {'type': 'StepProtocol', 'stimuli': {'step': {'delay': 2000, 'amp': 0.2, 'duration': 2000.0, 'totduration': 4800.0}, 'holding': {'amp': 0.093, 'delay': 0, 'duration': 4800.0, 'totduration': 4800.0}}}, 'Step240_2000ms': {'type': 'StepProtocol', 'stimuli': {'step': {'delay': 2000, 'amp': 0.24, 'duration': 2000.0, 'totduration': 4800.0}, 'holding': {'amp': 0.093, 'delay': 0, 'duration': 4800.0, 'totduration': 4800.0}}}, 'Step280_2000ms': {'type': 'StepProtocol', 'stimuli': {'step': {'delay': 2000, 'amp': 0.28, 'duration': 2000.0, 'totduration': 4800.0}, 'holding': {'amp': 0.093, 'delay': 0, 'duration': 4800.0, 'totduration': 4800.0}}}, 'SagStep-200_2000ms': {'type': 'StepProtocol', 'stimuli': {'step': {'delay': 2000, 'amp': -0.2, 'duration': 2000.0, 'totduration': 4800.0}, 'holding': {'amp': 0.0, 'delay': 0, 'duration': 4800.0, 'totduration': 4800.0}}}, 'Pulse': {'type': 'StepProtocol', 'stimuli': {'step': {'delay': 2000, 'amp': -1.0, 'duration': 0.5, 'totduration': 4800}}}, 'Step_2000ms': {'type': 'StepProtocol', 'stimuli': {'step': {'delay': 2000, 'amp': -0.01, 'duration': 100, 'totduration': 4800}}}}\n",
      "{'Step120_2000ms': {'type': 'StepProtocol', 'stimuli': {'step': {'delay': 2000, 'amp': 0.12, 'duration': 2000.0, 'totduration': 4800.0}, 'holding': {'amp': 0.067, 'delay': 0, 'duration': 4800.0, 'totduration': 4800.0}}}, 'Step180_2000ms': {'type': 'StepProtocol', 'stimuli': {'step': {'delay': 2000, 'amp': 0.18, 'duration': 2000.0, 'totduration': 4800.0}, 'holding': {'amp': 0.067, 'delay': 0, 'duration': 4800.0, 'totduration': 4800.0}}}, 'Step240_2000ms': {'type': 'StepProtocol', 'stimuli': {'step': {'delay': 2000, 'amp': 0.24, 'duration': 2000.0, 'totduration': 4800.0}, 'holding': {'amp': 0.067, 'delay': 0, 'duration': 4800.0, 'totduration': 4800.0}}}, 'SagStep-200_2000ms': {'type': 'StepProtocol', 'stimuli': {'step': {'delay': 2000, 'amp': -0.2, 'duration': 2000.0, 'totduration': 4800.0}, 'holding': {'amp': 0.0, 'delay': 0, 'duration': 4800.0, 'totduration': 4800.0}}}, 'Pulse': {'type': 'StepProtocol', 'stimuli': {'step': {'delay': 2000, 'amp': -1.0, 'duration': 0.5, 'totduration': 4800}}}, 'Step_2000ms': {'type': 'StepProtocol', 'stimuli': {'step': {'delay': 2000, 'amp': -0.01, 'duration': 100, 'totduration': 4800}}}}\n"
     ]
    }
   ],
   "source": [
    "for k in json_file_feature:\n",
    "    s = json.dumps(json_file_feature[k], indent=4)\n",
    "    for i in range(20, 12, -4):\n",
    "        s = s.replace('\\n' + (' ' * i), ' ')\n",
    "    for i in range(20, 8, -4):\n",
    "        s = s.replace('\\n' + (' ' * i) + '}', ' }')\n",
    "    with open(\"%s_features.json\"%k, \"w\") as fo:\n",
    "        fo.write(s)\n",
    "        \n",
    "        \n",
    "for k in json_file_protocol:\n",
    "    print (json_file_protocol[k])\n",
    "    s = json.dumps(json_file_protocol[k], indent=4)\n",
    "    for i in range(20, 12, -4):\n",
    "        s = s.replace('\\n' + (' ' * i), ' ')\n",
    "    for i in range(20, 8, -4):\n",
    "        s = s.replace('\\n' + (' ' * i) + '}', ' }')\n",
    "    with open(\"%s_protocols.json\"%k, \"w\") as fo:\n",
    "        fo.write(s)\n"
   ]
  },
  {
   "cell_type": "markdown",
   "metadata": {},
   "source": [
    "# Selected dataset export"
   ]
  },
  {
   "cell_type": "code",
   "execution_count": 33,
   "metadata": {},
   "outputs": [],
   "source": [
    "pd.concat([data_fi, data_sag, data_rebound]).to_csv('preprocessed_data_efeatures_selection.csv')"
   ]
  }
 ],
 "metadata": {
  "kernelspec": {
   "display_name": "Python 3 (ipykernel)",
   "language": "python",
   "name": "python3"
  },
  "language_info": {
   "codemirror_mode": {
    "name": "ipython",
    "version": 3
   },
   "file_extension": ".py",
   "mimetype": "text/x-python",
   "name": "python",
   "nbconvert_exporter": "python",
   "pygments_lexer": "ipython3",
   "version": "3.9.13"
  }
 },
 "nbformat": 4,
 "nbformat_minor": 4
}
